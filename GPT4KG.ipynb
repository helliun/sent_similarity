{
  "cells": [
    {
      "cell_type": "markdown",
      "metadata": {
        "id": "view-in-github",
        "colab_type": "text"
      },
      "source": [
        "<a href=\"https://colab.research.google.com/github/helliun/sent_similarity/blob/master/GPT4KG.ipynb\" target=\"_parent\"><img src=\"https://colab.research.google.com/assets/colab-badge.svg\" alt=\"Open In Colab\"/></a>"
      ]
    },
    {
      "cell_type": "code",
      "execution_count": 1,
      "metadata": {
        "cellView": "form",
        "id": "YHFHuHqhkFcY",
        "colab": {
          "base_uri": "https://localhost:8080/"
        },
        "outputId": "5e8e3d4d-5199-400a-e9d4-45a3b74ddd53"
      },
      "outputs": [
        {
          "output_type": "stream",
          "name": "stdout",
          "text": [
            "\u001b[?25l     \u001b[90m━━━━━━━━━━━━━━━━━━━━━━━━━━━━━━━━━━━━━━━━\u001b[0m \u001b[32m0.0/86.0 KB\u001b[0m \u001b[31m?\u001b[0m eta \u001b[36m-:--:--\u001b[0m\r\u001b[2K     \u001b[91m━━━━━━━━━━━━━━━━━━━━━━━━━━━━━━━━━━━━━━\u001b[0m\u001b[90m╺\u001b[0m\u001b[90m━\u001b[0m \u001b[32m81.9/86.0 KB\u001b[0m \u001b[31m2.6 MB/s\u001b[0m eta \u001b[36m0:00:01\u001b[0m\r\u001b[2K     \u001b[90m━━━━━━━━━━━━━━━━━━━━━━━━━━━━━━━━━━━━━━━━\u001b[0m \u001b[32m86.0/86.0 KB\u001b[0m \u001b[31m1.7 MB/s\u001b[0m eta \u001b[36m0:00:00\u001b[0m\n",
            "\u001b[?25h  Preparing metadata (setup.py) ... \u001b[?25l\u001b[?25hdone\n",
            "\u001b[2K     \u001b[90m━━━━━━━━━━━━━━━━━━━━━━━━━━━━━━━━━━━━━━━━\u001b[0m \u001b[32m6.8/6.8 MB\u001b[0m \u001b[31m32.2 MB/s\u001b[0m eta \u001b[36m0:00:00\u001b[0m\n",
            "\u001b[2K     \u001b[90m━━━━━━━━━━━━━━━━━━━━━━━━━━━━━━━━━━━━━━━━\u001b[0m \u001b[32m1.3/1.3 MB\u001b[0m \u001b[31m31.0 MB/s\u001b[0m eta \u001b[36m0:00:00\u001b[0m\n",
            "\u001b[2K     \u001b[90m━━━━━━━━━━━━━━━━━━━━━━━━━━━━━━━━━━━━━━\u001b[0m \u001b[32m199.8/199.8 KB\u001b[0m \u001b[31m13.7 MB/s\u001b[0m eta \u001b[36m0:00:00\u001b[0m\n",
            "\u001b[2K     \u001b[90m━━━━━━━━━━━━━━━━━━━━━━━━━━━━━━━━━━━━━━━━\u001b[0m \u001b[32m7.6/7.6 MB\u001b[0m \u001b[31m42.1 MB/s\u001b[0m eta \u001b[36m0:00:00\u001b[0m\n",
            "\u001b[?25h  Building wheel for sentence-transformers (setup.py) ... \u001b[?25l\u001b[?25hdone\n",
            "\u001b[2K     \u001b[90m━━━━━━━━━━━━━━━━━━━━━━━━━━━━━━━━━━━━━━━━\u001b[0m \u001b[32m54.7/54.7 KB\u001b[0m \u001b[31m1.6 MB/s\u001b[0m eta \u001b[36m0:00:00\u001b[0m\n",
            "\u001b[?25h  Installing build dependencies ... \u001b[?25l\u001b[?25hdone\n",
            "  Getting requirements to build wheel ... \u001b[?25l\u001b[?25hdone\n",
            "  Preparing metadata (pyproject.toml) ... \u001b[?25l\u001b[?25hdone\n",
            "\u001b[2K     \u001b[90m━━━━━━━━━━━━━━━━━━━━━━━━━━━━━━━━━━━━━━━━\u001b[0m \u001b[32m1.0/1.0 MB\u001b[0m \u001b[31m10.9 MB/s\u001b[0m eta \u001b[36m0:00:00\u001b[0m\n",
            "\u001b[2K     \u001b[90m━━━━━━━━━━━━━━━━━━━━━━━━━━━━━━━━━━━━━━\u001b[0m \u001b[32m158.8/158.8 KB\u001b[0m \u001b[31m16.6 MB/s\u001b[0m eta \u001b[36m0:00:00\u001b[0m\n",
            "\u001b[2K     \u001b[90m━━━━━━━━━━━━━━━━━━━━━━━━━━━━━━━━━━━━━━\u001b[0m \u001b[32m114.2/114.2 KB\u001b[0m \u001b[31m13.3 MB/s\u001b[0m eta \u001b[36m0:00:00\u001b[0m\n",
            "\u001b[2K     \u001b[90m━━━━━━━━━━━━━━━━━━━━━━━━━━━━━━━━━━━━━━\u001b[0m \u001b[32m264.6/264.6 KB\u001b[0m \u001b[31m22.4 MB/s\u001b[0m eta \u001b[36m0:00:00\u001b[0m\n",
            "\u001b[?25h  Building wheel for openai (pyproject.toml) ... \u001b[?25l\u001b[?25hdone\n",
            "\u001b[2K     \u001b[90m━━━━━━━━━━━━━━━━━━━━━━━━━━━━━━━━━━━━━━━━\u001b[0m \u001b[32m57.3/57.3 KB\u001b[0m \u001b[31m1.8 MB/s\u001b[0m eta \u001b[36m0:00:00\u001b[0m\n",
            "\u001b[?25h  Installing build dependencies ... \u001b[?25l\u001b[?25hdone\n",
            "  Getting requirements to build wheel ... \u001b[?25l\u001b[?25hdone\n",
            "  Installing backend dependencies ... \u001b[?25l\u001b[?25hdone\n",
            "  Preparing metadata (pyproject.toml) ... \u001b[?25l\u001b[?25hdone\n",
            "  Building wheel for openai (pyproject.toml) ... \u001b[?25l\u001b[?25hdone\n",
            "\u001b[2K     \u001b[90m━━━━━━━━━━━━━━━━━━━━━━━━━━━━━━━━━━━━━━━━\u001b[0m \u001b[32m15.8/15.8 MB\u001b[0m \u001b[31m56.6 MB/s\u001b[0m eta \u001b[36m0:00:00\u001b[0m\n",
            "\u001b[2K     \u001b[90m━━━━━━━━━━━━━━━━━━━━━━━━━━━━━━━━━━━━━━\u001b[0m \u001b[32m144.1/144.1 KB\u001b[0m \u001b[31m17.4 MB/s\u001b[0m eta \u001b[36m0:00:00\u001b[0m\n",
            "\u001b[2K     \u001b[90m━━━━━━━━━━━━━━━━━━━━━━━━━━━━━━━━━━━━━━━━\u001b[0m \u001b[32m45.7/45.7 KB\u001b[0m \u001b[31m3.5 MB/s\u001b[0m eta \u001b[36m0:00:00\u001b[0m\n",
            "\u001b[2K     \u001b[90m━━━━━━━━━━━━━━━━━━━━━━━━━━━━━━━━━━━━━━━━\u001b[0m \u001b[32m57.8/57.8 KB\u001b[0m \u001b[31m5.8 MB/s\u001b[0m eta \u001b[36m0:00:00\u001b[0m\n",
            "\u001b[2K     \u001b[90m━━━━━━━━━━━━━━━━━━━━━━━━━━━━━━━━━━━━━━━━\u001b[0m \u001b[32m57.1/57.1 KB\u001b[0m \u001b[31m6.5 MB/s\u001b[0m eta \u001b[36m0:00:00\u001b[0m\n",
            "\u001b[2K     \u001b[90m━━━━━━━━━━━━━━━━━━━━━━━━━━━━━━━━━━━━━━\u001b[0m \u001b[32m106.5/106.5 KB\u001b[0m \u001b[31m12.0 MB/s\u001b[0m eta \u001b[36m0:00:00\u001b[0m\n",
            "\u001b[2K     \u001b[90m━━━━━━━━━━━━━━━━━━━━━━━━━━━━━━━━━━━━━━━━\u001b[0m \u001b[32m71.5/71.5 KB\u001b[0m \u001b[31m8.2 MB/s\u001b[0m eta \u001b[36m0:00:00\u001b[0m\n",
            "\u001b[2K     \u001b[90m━━━━━━━━━━━━━━━━━━━━━━━━━━━━━━━━━━━━━━━━\u001b[0m \u001b[32m50.5/50.5 KB\u001b[0m \u001b[31m4.6 MB/s\u001b[0m eta \u001b[36m0:00:00\u001b[0m\n",
            "\u001b[?25h  Preparing metadata (setup.py) ... \u001b[?25l\u001b[?25hdone\n",
            "\u001b[2K     \u001b[90m━━━━━━━━━━━━━━━━━━━━━━━━━━━━━━━━━━━━━━━━\u001b[0m \u001b[32m66.9/66.9 KB\u001b[0m \u001b[31m7.3 MB/s\u001b[0m eta \u001b[36m0:00:00\u001b[0m\n",
            "\u001b[2K     \u001b[90m━━━━━━━━━━━━━━━━━━━━━━━━━━━━━━━━━━━━━━━━\u001b[0m \u001b[32m69.6/69.6 KB\u001b[0m \u001b[31m6.1 MB/s\u001b[0m eta \u001b[36m0:00:00\u001b[0m\n",
            "\u001b[2K     \u001b[90m━━━━━━━━━━━━━━━━━━━━━━━━━━━━━━━━━━━━━━━━\u001b[0m \u001b[32m58.3/58.3 KB\u001b[0m \u001b[31m6.6 MB/s\u001b[0m eta \u001b[36m0:00:00\u001b[0m\n",
            "\u001b[2K     \u001b[90m━━━━━━━━━━━━━━━━━━━━━━━━━━━━━━━━━━━━━━━━\u001b[0m \u001b[32m80.6/80.6 KB\u001b[0m \u001b[31m9.4 MB/s\u001b[0m eta \u001b[36m0:00:00\u001b[0m\n",
            "\u001b[?25h  Building wheel for ffmpy (setup.py) ... \u001b[?25l\u001b[?25hdone\n"
          ]
        }
      ],
      "source": [
        "#@title Pip Installs\n",
        "!pip install sentence-transformers -q\n",
        "!pip install openai==0.26 -q\n",
        "!pip install openai==0.27.1 -q\n",
        "!pip install gradio -q"
      ]
    },
    {
      "cell_type": "code",
      "execution_count": 2,
      "metadata": {
        "cellView": "form",
        "id": "fj-fo-Y8LGSe"
      },
      "outputs": [],
      "source": [
        "#@title Importing and Setting Up All Libraries\n",
        "#@markdown Enter your OpenAI API key below\n",
        "import json\n",
        "import pydot\n",
        "from sentence_transformers import SentenceTransformer, util\n",
        "import numpy as np\n",
        "from sklearn.metrics.pairwise import cosine_similarity\n",
        "import torch\n",
        "import openai\n",
        "from PIL import Image\n",
        "\n",
        "openai.api_key = \"\" #@param {type: \"string\"}"
      ]
    },
    {
      "cell_type": "code",
      "execution_count": 32,
      "metadata": {
        "id": "uSxD3WORf7e-"
      },
      "outputs": [],
      "source": [
        "#@title KnowledgeGraph Class\n",
        "class KnowledgeGraph:\n",
        "    def __init__(self,api_key,kg_file=\"\"):\n",
        "        openai.api_key = api_key \n",
        "        self.graph = pydot.Dot(graph_type=\"digraph\")\n",
        "        self.entities = {}\n",
        "        self.fact_scores = {}\n",
        "        self.device = \"cuda\" if torch.cuda.is_available() else \"cpu\"\n",
        "        self.model = SentenceTransformer('all-MiniLM-L6-v2').to(self.device)\n",
        "        self.entity_embeddings = {}\n",
        "        if kg_file!=\"\":\n",
        "          self.load_graph(kg_file)\n",
        "\n",
        "    def add_entity(self, name, description):\n",
        "        if name not in self.entities:\n",
        "            self.entities[name] = {\"description\": description}\n",
        "            entity_node = pydot.Node(name, label=f\"{name}\\n({description})\")\n",
        "            self.graph.add_node(entity_node)\n",
        "            self.entity_embeddings[name] = self.model.encode(name)#+\": \\n\"+\"\\n\".join([key+\": \"+kg.entities[name][key] for key in kg.entities[name]]))\n",
        "            print(\"added embedding\")\n",
        "            \n",
        "    def add_relationship(self, entity1, relationship, entity2):\n",
        "        if entity1 in self.entities:\n",
        "            try: \n",
        "              self.entities[entity1][relationship] += \", \"+entity2\n",
        "            except:\n",
        "              self.entities[entity1][relationship] = entity2\n",
        "            edge = pydot.Edge(entity1, entity2, label=relationship)\n",
        "            self.graph.add_edge(edge)\n",
        "\n",
        "    def update_graph(self, json_str,clean=True):\n",
        "        try:\n",
        "          data = json.loads(json_str)\n",
        "        except:\n",
        "          print(\"GPT4 failed to create a valid JSON. Input may be too long for processing.\")\n",
        "          return\n",
        "        for entity_dict in data:\n",
        "            for entity, relationships in entity_dict.items():\n",
        "                try:\n",
        "                  self.add_entity(entity, relationships[0][\"description\"])\n",
        "                except:\n",
        "                  self.add_entity(entity, \"\")\n",
        "                for rel in relationships[1:]:\n",
        "                    for relationship, other_entity in rel.items():\n",
        "                        try:\n",
        "                          self.add_relationship(entity, relationship, other_entity)\n",
        "                        except:\n",
        "                          for o in other_entity:\n",
        "                            self.add_relationship(entity, relationship, o)\n",
        "        if clean:\n",
        "          for entity_dict in data:\n",
        "              for entity, relationships in entity_dict.items():\n",
        "                self.clean_graph(entity)\n",
        "\n",
        "    def display_graph(self, output_file=\"knowledge_graph.png\"):\n",
        "        self.graph.write_png(output_file)\n",
        "        img = Image.open(output_file)\n",
        "        img.show()\n",
        "\n",
        "    def search(self, query, n=5):\n",
        "      if len(self.entity_embeddings)<5:\n",
        "        n = len(self.entity_embeddings)\n",
        "      query_embedding = self.model.encode(query)\n",
        "      query_tensor = torch.tensor([query_embedding])\n",
        "      entity_tensor = torch.tensor(list(self.entity_embeddings.values()))\n",
        "      similarities = util.cos_sim(query_tensor, query_tensor).numpy()\n",
        "      top_indices = np.argsort(similarities[0])[-n:][::-1]\n",
        "      results = [(list(self.entity_embeddings.keys())[index], similarities[0][index]) for index in top_indices]\n",
        "      return results\n",
        "\n",
        "    def related_entities(self,query, n=5):\n",
        "      query_embedding = self.model.encode(query)\n",
        "      query_tensor = torch.tensor([query_embedding])\n",
        "      potentities = [key+\": \"+self.entities[key][\"description\"] for key in self.entities]\n",
        "      entity_tensor = self.model.encode(potentities)\n",
        "      similarities = util.cos_sim(query_tensor, entity_tensor).numpy()\n",
        "      if len(similarities)<n:\n",
        "        n = len(similarities)\n",
        "      top_indices = np.argsort(similarities[0])[-n:][::-1]\n",
        "      results = [potentities[index] for index in top_indices]\n",
        "      return results\n",
        "\n",
        "    def text_to_data(self,text):\n",
        "      system = {\"role\":\"system\",\"content\":system_text}\n",
        "      messages = [system]\n",
        "      try:\n",
        "        related = self.related_entities(text)\n",
        "        text = text+f\"\\n\\nGenerate the JSON for the text above, remembering to add inverse relationships and inferences. Here are some related entities already in the graph. If you are adding information about any of them, refer to them by the names below (otherwise ignore this information):\\n\\n{str(related)}\"\n",
        "      except:\n",
        "        pass\n",
        "      messages.append({\"role\":\"user\",\"content\":text})\n",
        "      output = openai.ChatCompletion.create(model=\"gpt-4\",messages=messages)[\"choices\"][0][\"message\"].to_dict()[\"content\"]\n",
        "      return output\n",
        "\n",
        "    def learn(self,text,show_output=False):\n",
        "      json_str = self.text_to_data(text)\n",
        "      if show_output:\n",
        "        print(json_str)\n",
        "      self.update_graph(json_str)\n",
        "\n",
        "    def graph_search(self,query,n=5,path=\"subgraph.png\"):\n",
        "      results = self.search(query, n)\n",
        "      if len(results)<n:\n",
        "        n = len(results)\n",
        "      top_ents = [results[i][0] for i in range(n)]\n",
        "      data = [{ent:[{key:self.entities[ent][key]} for key in self.entities[ent]]} for ent in top_ents]\n",
        "      new = KnowledgeGraph()\n",
        "      json_string = json.dumps(data) \n",
        "      new.update_graph(str(json_string),clean=False) \n",
        "      new.display_graph(path)\n",
        "    \n",
        "    def text_search(self,query,n=3):\n",
        "      results = self.search(query, n)\n",
        "      keys = [r[0] for r in results]\n",
        "      potentities = [key+\": \"+str(self.entities[key]) for key in keys]\n",
        "      for p in potentities:\n",
        "        print(p)\n",
        "    \n",
        "    def qa_search(self,query,n=5):\n",
        "      results = self.search(query, n)\n",
        "      keys = [r[0] for r in results]\n",
        "      facts = [key+\": \"+str(rel).replace(\"description\",\"is\")+\" \"+str(self.entities[key][rel]) for key in keys for rel in self.entities[key]]\n",
        "      query_embedding = self.model.encode(query)\n",
        "      query_tensor = torch.tensor([query_embedding])\n",
        "      fact_tensor = self.model.encode(facts)\n",
        "      similarities = util.cos_sim(query_tensor, fact_tensor).numpy()\n",
        "      if len(similarities[0])<n:\n",
        "        n = len(similarities)\n",
        "      top_indices = np.argsort(similarities[0])[-n:][::-1]\n",
        "      results = [facts[index] for index in top_indices]\n",
        "      return results\n",
        "    \n",
        "    def chat_qa(self,query):\n",
        "      results = self.qa_search(query)\n",
        "      system = {\"role\":\"system\",\"content\":\"You are a helpful chatbot that answers questions based on data in your fact database.\"}\n",
        "      messages = [system]\n",
        "      text = f\"Question: {query}\\n\\nFact Data: \\n{results}\"\n",
        "      messages.append({\"role\":\"user\",\"content\":text})\n",
        "      output = openai.ChatCompletion.create(model=\"gpt-3.5-turbo\",messages=messages)[\"choices\"][0][\"message\"].to_dict()[\"content\"]\n",
        "      return output\n",
        "    \n",
        "    def clean_graph(self,key):\n",
        "      facts = [key+\": \"+str(rel).replace(\"description\",\"is\")+\" \"+str(self.entities[key][rel]) for rel in self.entities[key]]\n",
        "      rels = [rel for rel in self.entities[key]]\n",
        "      fact_embs = self.model.encode(facts)\n",
        "      scores = util.cos_sim(fact_embs,fact_embs)\n",
        "      pairs = []\n",
        "      for i in range(len(scores)):\n",
        "        for j in range(len(scores[i])):\n",
        "          if round(scores[i][j].item(),3)!=1.0 and scores[i][j]>0.7:\n",
        "            if (facts[i],facts[j]) not in pairs and (facts[j],facts[i]) not in pairs:\n",
        "              pairs.append((facts[i],facts[j]))\n",
        "      for pair in pairs:\n",
        "        system = {\"role\":\"system\",\"content\":\"You are a helpful chatbot that only outputs YES or NO\"}\n",
        "        messages = [system]\n",
        "        messages.append({\"role\":\"user\",\"content\":f\"Do these two facts in our database express the same thing?: {pair}\"})\n",
        "        output = openai.ChatCompletion.create(model=\"gpt-4\",messages=messages)[\"choices\"][0][\"message\"].to_dict()[\"content\"]\n",
        "        if \"yes\" in output.lower():\n",
        "          bad_index = facts.index(pair[1])\n",
        "          redundant = rels[bad_index]\n",
        "          del self.entities[key][redundant]\n",
        "          good_index = facts.index(pair[0])\n",
        "          validated = rels[bad_index]\n",
        "          try:\n",
        "            self.fact_scores[(key,validated)]+=1\n",
        "          except:\n",
        "            self.fact_scores[(key,validated)]=1\n",
        "\n",
        "    def load_graph(self,kg_file):\n",
        "      with open(kg_file) as f:\n",
        "        lines = f.readlines()\n",
        "        graph_data = \"\\n\".join(lines[:-1])\n",
        "        ents = eval(lines[-1])\n",
        "      data = [{ent:[{key:ents[ent][key]} for key in ents[ent]]} for ent in ents]\n",
        "      json_string = json.dumps(data)\n",
        "      print(json_string)\n",
        "      self.update_graph(str(json_string)) \n",
        "      self.graph = pydot.graph_from_dot_data(graph_data)[0]\n",
        "\n",
        "    def save_graph(self,filename=\"mygraph.kg\"):\n",
        "      with open(filename,\"w\") as f:\n",
        "        f.write(\"\")\n",
        "      self.graph.write_dot(filename)\n",
        "      with open(filename,\"a\") as f:\n",
        "        f.write(\"\\n\")\n",
        "        f.write(str(self.entities))"
      ]
    },
    {
      "cell_type": "code",
      "execution_count": 4,
      "metadata": {
        "cellView": "form",
        "id": "YLxZHgYCJaCw"
      },
      "outputs": [],
      "source": [
        "#@title System Prompt\n",
        "system_text = \"\"\"You are an expert AI that extracts knowledge graphs from text and outputs JSON files with the extracted knowledge, and nothing more. Here's how the JSON is broken down.\n",
        "\n",
        "Entity dictionaries are organized in a list\n",
        "Every entity mentioned in the text has its own entity dictionary, in which the name of the entity is the key, and the value is a list of relationships.\n",
        "Each relationship contains a short word or two accurately describing the relationship to the other entity as the key, and then the other entity as a value.\n",
        "All inverses of these relationships are represented in the relationship list of the other entities. This is REALY IMPORTANT. For example if Apple created the iPhone, it is also important to note that the iPhone was created by Apple (each entity should have this relsationship from their perspective).\n",
        "Non specified relationships are also inferred (if person X is the son of person Y, and person Z is person X's sibling, person Z is also the child of person Y).\n",
        "The JSON contains NO NEW LINES. All the data should be on one line.\n",
        "\n",
        "Every entity has a \"description\" relationship which provides a short description of what it is in a few words. If the description references another entity, then this relationship MUST be graphed, even if it is redundant.\n",
        "\n",
        "Relationships are only created about facts, not just any connection between two entities mentioned in the text.\n",
        "\n",
        "\n",
        "Example output:\n",
        "[{\"Toki Pona\": [{\"description\": \"philosophical artistic constructed language\"}, {\"translated as\": \"the language of good\"}, {\"created by\": \"Sonja Lang\"}, {\"first published\": \"2001\"}, {\"complete form published in\": \"Toki Pona: The Language of Good\"}, {\"supplementary dictionary\": \"Toki Pona Dictionary\"}], \"Sonja Lang\": [{\"description\": \"Canadian linguist and translator\"}, {\"creator of\": \"Toki Pona\"}], \"Toki Pona: The Language of Good\": [{\"description\": \"book\"}, {\"published in\": \"2014\"}, {\"language\": \"Toki Pona\"}], \"Toki Pona Dictionary\": [{\"description\": \"dictionary\"}, {\"released in\": \"July 2021\"}, {\"based on\": \"community usage\"}]}]\"\"\""
      ]
    },
    {
      "cell_type": "code",
      "execution_count": null,
      "metadata": {
        "id": "rKAJkF2UxImJ"
      },
      "outputs": [],
      "source": [
        "kg = KnowledgeGraph(openai.api_key)\n",
        "#data = [{\"GOOD Music\": [{\"description\": \"American independent record label\"}, {\"backronym\": \"Getting Out Our Dreams\"}, {\"founded by\": \"Kanye West\"}, {\"founded\": \"2004\"}, {\"signed agreement with\": \"Island Def Jam Music Group\"}, {\"debut compilation album\": \"Cruel Summer\"}, {\"previous president\": \"Pusha T\"}, {\"COO\": \"Steven Victor\"}], \"Kanye West\": [{\"description\": \"rapper\"}, {\"founder of\": \"GOOD Music\"}], \"Island Def Jam Music Group\": [{\"description\": \"record label group\"}, {\"signed agreement with\": \"GOOD Music\"}], \"Cruel Summer\": [{\"description\": \"debut compilation album\"}, {\"released by\": \"GOOD Music\"}], \"Pusha T\": [{\"description\": \"rapper\"}, {\"former president of\": \"GOOD Music\"}, {\"stepped down\": \"December 19, 2022\"}], \"Steven Victor\": [{\"description\": \"record executive\"}, {\"COO of\": \"GOOD Music\"}]}]\n",
        "#data = [{\"GOOD Music\": [{\"description\": \"record label\"}, {\"released\": \"All of Me\"}, {\"released\": \"Panda\"}, {\"released\": \"Finding Forever\"}, {\"released\": \"Dark Sky Paradise\"}, {\"released\": \"I Decided\"}, {\"released\": \"Detroit 2\"}, {\"released\": \"The Life of Pablo\"}, {\"released\": \"Ye\"}, {\"released\": \"Jesus Is King\"}, {\"released\": \"Donda\"}, {\"released\": \"It's Almost Dry\"}, {\"no longer part of\": \"Def Jam Recordings\"}, {\"expired deal with\": \"Kanye West\"}, {\"released\": \"You Can't Kill Me\"}], \"John Legend\": [{\"description\": \"singer\"}, {\"sang\": \"All of Me\"}], \"All of Me\": [{\"description\": \"US Billboard Hot 100 single\"}, {\"singer\": \"John Legend\"}, {\"released by\": \"GOOD Music\"}] ,\"Desiigner\": [{\"description\": \"rapper\"}, {\"sang\": \"Panda\"}], \"Panda\": [{\"description\": \"US Billboard Hot 100 single\"}, {\"singer\": \"Desiigner\"}, {\"released by\": \"GOOD Music\"}], \"Common\": [{\"description\": \"rapper\"}, {\"album\": \"Finding Forever\"}], \"Finding Forever\": [{\"description\": \"US Billboard 200 album\"}, {\"rapper\": \"Common\"}, {\"released by\": \"GOOD Music\"}] , \"Big Sean\": [{\"description\": \"rapper\"}, {\"album\": \"Dark Sky Paradise\"}, {\"album\": \"I Decided\"}, {\"album\": \"Detroit 2\"}], \"Dark Sky Paradise\": [{\"description\": \"US Billboard 200 album\"}, {\"rapper\": \"Big Sean\"}, {\"released by\": \"GOOD Music\"}], \"I Decided\": [{\"description\": \"US Billboard 200 album\"}, {\"rapper\": \"Big Sean\"}, {\"released by\": \"GOOD Music\"}]}]\n",
        "data = [{\"J.R.R. Tolkien\": [{\"description\": \"author\"}, {\"wrote\": \"The Lord of the Rings\"}], \"The Lord of the Rings\": [{\"description\": \"trilogy\"}, {\"author\": \"J.R.R. Tolkien\"}, {\"character\": \"Frodo Baggins\"}, {\"character\": \"Sauron\"}, {\"location\": \"Mount Doom\"}, {\"character\": \"Sam\"}, {\"character\": \"Merry\"}, {\"character\": \"Pippin\"}, {\"character\": \"Aragorn\"}, {\"character\": \"Legolas\"}, {\"character\": \"Gimli\"}, {\"character\": \"Saruman\"}], \"Frodo Baggins\": [{\"description\": \"hobbit protagonist\"}, {\"inherits\": \"ring\"}, {\"journey to\": \"Mount Doom\"}], \"ring\": [{\"description\": \"powerful and dangerous\"}, {\"created by\": \"Sauron\"}], \"Sauron\": [{\"description\": \"dark lord\"}, {\"creator of\": \"ring\"}, {\"defeated by\": \"destruction of ring\"}], \"Mount Doom\": [{\"description\": \"volcano\"}, {\"ring destroyed in\": \"fires\"}], \"Sam\": [{\"description\": \"hobbit\"}, {\"friend\": \"Frodo Baggins\"}, {\"journey to\": \"Mount Doom\"}], \"Merry\": [{\"description\": \"hobbit\"}, {\"friend\": \"Frodo Baggins\"}], \"Pippin\": [{\"description\": \"hobbit\"}, {\"friend\": \"Frodo Baggins\"}], \"Aragorn\": [{\"description\": \"human\"}, {\"friend\": \"Frodo Baggins\"}], \"Legolas\": [{\"description\": \"elf\"}, {\"friend\": \"Frodo Baggins\"}], \"Gimli\": [{\"description\": \"dwarf\"}, {\"friend\": \"Frodo Baggins\"}], \"Saruman\": [{\"description\": \"corrupted wizard\"}, {\"enemy of\": \"Frodo Baggins and company\"}], \"Middle-earth\": [{\"description\": \"fictional world\"}, {\"saved by\": \"destruction of ring\"}]}]\n",
        "#data = [{\"Nibo\": [{\"description\": \"young penguin\"}, {\"lived in\": \"Antarctica\"}, {\"characteristics\": [\"restless spirit\", \"desire to explore\"]}, {\"known as\": \"most adventurous penguin in the colony\"}, {\"inspired\": \"fellow penguins\"}], \"Antarctica\": [{\"description\": \"icy continent\"}, {\"inhabited by\": \"penguins\"}], \"fellow penguins\": [{\"description\": \"Nibo's peers\"}, {\"viewed Nibo as\": \"strange\"}, {\"inspired by\": \"Nibo\"}]}]\n",
        "json_str = str(data).replace(\"'\",\"\\\"\")\n",
        "kg.update_graph(json_str)"
      ]
    },
    {
      "cell_type": "code",
      "execution_count": null,
      "metadata": {
        "id": "DfKb2TzqK5fh"
      },
      "outputs": [],
      "source": [
        "kg = KnowledgeGraph(openai.api_key)"
      ]
    },
    {
      "cell_type": "code",
      "execution_count": null,
      "metadata": {
        "colab": {
          "base_uri": "https://localhost:8080/"
        },
        "id": "fNFG-lxZlbmG",
        "outputId": "801901d9-8eac-48bf-b27c-6173398d79a9"
      },
      "outputs": [
        {
          "name": "stdout",
          "output_type": "stream",
          "text": [
            "Mike is a man\n",
            "[{\"Mike\": [{\"description\": \"man\"}]}]\n"
          ]
        }
      ],
      "source": [
        "kg.learn(input(),show_output=True)"
      ]
    },
    {
      "cell_type": "code",
      "execution_count": null,
      "metadata": {
        "id": "O1VQycswUeFU"
      },
      "outputs": [],
      "source": [
        "kg.graph_search(\"Frodo\",5)"
      ]
    },
    {
      "cell_type": "code",
      "execution_count": null,
      "metadata": {
        "id": "WKEuzonWl8rt"
      },
      "outputs": [],
      "source": [
        "kg.save_graph()"
      ]
    },
    {
      "cell_type": "code",
      "execution_count": null,
      "metadata": {
        "id": "eutrkfb-Nbf_"
      },
      "outputs": [],
      "source": [
        "new = KnowledgeGraph(\"/content/mygraph.kg\")"
      ]
    },
    {
      "cell_type": "code",
      "execution_count": null,
      "metadata": {
        "id": "CJsmx0murib1"
      },
      "outputs": [],
      "source": [
        "kg.qa_search(\"What do other penguins think of nibo?\")"
      ]
    },
    {
      "cell_type": "code",
      "execution_count": null,
      "metadata": {
        "id": "mc-EGOxURfmc"
      },
      "outputs": [],
      "source": [
        "kg.chat_qa(\"What did nibo discover?\")"
      ]
    },
    {
      "cell_type": "code",
      "execution_count": null,
      "metadata": {
        "id": "xn_x3CgFF9kX"
      },
      "outputs": [],
      "source": [
        "kg.entities[\"Harry\"]"
      ]
    },
    {
      "cell_type": "code",
      "execution_count": null,
      "metadata": {
        "id": "IPM-cbSZOAb2"
      },
      "outputs": [],
      "source": [
        "new.display_graph()"
      ]
    },
    {
      "cell_type": "code",
      "execution_count": null,
      "metadata": {
        "colab": {
          "base_uri": "https://localhost:8080/",
          "height": 99
        },
        "id": "Ig_2zBgMBqbL",
        "outputId": "fa7c7bc6-b928-4e87-992a-c4c9e5be3cdc"
      },
      "outputs": [
        {
          "data": {
            "image/png": "[encoded data removed]",
            "text/plain": [
              "<PIL.PngImagePlugin.PngImageFile image mode=RGBA size=105x82 at 0x7F1E7BB8B400>"
            ]
          },
          "metadata": {},
          "output_type": "display_data"
        }
      ],
      "source": [
        "kg.display_graph(\"temp.png\")"
      ]
    },
    {
      "cell_type": "code",
      "execution_count": null,
      "metadata": {
        "id": "riUUx06QnkA1"
      },
      "outputs": [],
      "source": [
        "kg.fact_scores"
      ]
    },
    {
      "cell_type": "code",
      "execution_count": null,
      "metadata": {
        "id": "RhzoS2TfqXtT"
      },
      "outputs": [],
      "source": [
        "kg.entities[\"Frodo Baggins\"]"
      ]
    },
    {
      "cell_type": "code",
      "execution_count": 40,
      "metadata": {
        "colab": {
          "base_uri": "https://localhost:8080/",
          "height": 590
        },
        "id": "VXIklsRmcAjM",
        "outputId": "9cb6cefa-b6f1-4a35-8694-2ecabc7b6d3f"
      },
      "outputs": [
        {
          "output_type": "stream",
          "name": "stdout",
          "text": [
            "Colab notebook detected. To show errors in colab notebook, set debug=True in launch()\n",
            "Running on public URL: https://a6a6875ecc16e13d9d.gradio.live\n",
            "\n",
            "This share link expires in 72 hours. For free permanent hosting and GPU upgrades (NEW!), check out Spaces: https://huggingface.co/spaces\n"
          ]
        },
        {
          "output_type": "display_data",
          "data": {
            "text/plain": [
              "<IPython.core.display.HTML object>"
            ],
            "text/html": [
              "<div><iframe src=\"https://a6a6875ecc16e13d9d.gradio.live\" width=\"100%\" height=\"500\" allow=\"autoplay; camera; microphone; clipboard-read; clipboard-write;\" frameborder=\"0\" allowfullscreen></iframe></div>"
            ]
          },
          "metadata": {}
        },
        {
          "output_type": "execute_result",
          "data": {
            "text/plain": []
          },
          "metadata": {},
          "execution_count": 40
        }
      ],
      "source": [
        "import gradio as gr\n",
        "from PIL import Image\n",
        "\n",
        "def generate_graph(input_text,api_key):\n",
        "  try:\n",
        "    kg = KnowledgeGraph(api_key,\"temp.kg\")\n",
        "  except:\n",
        "    kg = KnowledgeGraph(api_key)\n",
        "  kg.learn(str(input_text))\n",
        "  kg.save_graph(\"temp.kg\")\n",
        "  kg.display_graph(\"temp.png\")\n",
        "  return Image.open(\"temp.png\")\n",
        "\n",
        "title = \"GPT-4 Knowledge Graph Generator\"\n",
        "description = \"Enter text to generate a knowledge graph using GPT4KG:\"\n",
        "\n",
        "with gr.Blocks() as demo:\n",
        "  with open(\"temp.kg\",\"w\") as f:\n",
        "    f.write(\"\")\n",
        "  gr.Markdown(\"\"\"<h1><center>GPT-4 Knowledge Graph Generator</center></h1>\"\"\")\n",
        "  output_image = gr.Image(label=\"Knowledge Graph\", type=\"pil\")\n",
        "  api_key = gr.Textbox(lines=1, label=\"OpenAI API Key\")\n",
        "  input_text = gr.Textbox(lines=5, label=\"Information to be added to graph\")\n",
        "  submit_btn = gr.Button(\"Add info to graph\")\n",
        "  submit_btn.click(fn=generate_graph, inputs=[input_text,api_key], outputs=[output_image])\n",
        "\n",
        "demo.launch(share=True)"
      ]
    },
    {
      "cell_type": "code",
      "execution_count": 45,
      "metadata": {
        "id": "lGJt3fWzwGrl",
        "colab": {
          "base_uri": "https://localhost:8080/"
        },
        "outputId": "92f70532-1683-43f5-964b-df375a8b1f9a"
      },
      "outputs": [
        {
          "output_type": "stream",
          "name": "stdout",
          "text": [
            "[{\"Moonwatcher\": [{\"description\": \"smart ape\"}, {\"knows how to\": \"use tools\"}, {\"learned from\": \"an alien\"}, {\"loves\": \"killing pigs, killing pigs\"}]}, {\"an alien\": [{\"description\": \"extraterrestrial being\"}, {\"taught\": \"Moonwatcher\"}]}, {\"tools\": [{\"description\": \"instruments used for tasks\"}, {\"used by\": \"Moonwatcher\"}]}, {\"killing pigs\": [{\"description\": \"activity\"}, {\"loved by\": \"Moonwatcher, Moonwatcher\"}, {\"liked by\": \"Moonwatcher\"}]}]\n",
            "added embedding\n",
            "added embedding\n",
            "added embedding\n",
            "added embedding\n"
          ]
        }
      ],
      "source": [
        "kg = KnowledgeGraph(openai.api_key,\"temp.kg\")"
      ]
    },
    {
      "cell_type": "code",
      "source": [
        "kg.update_graph('''[{\"Moonwatcher\": [{\"description\": \"smart ape\"}, {\"learns from\": \"Alien\"}, {\"learns to use\": \"tools\"}, {\"leader of\": \"Moonwatcher's tribe\"}]}, {\"Alien\": [{\"description\": \"extraterrestrial being\"}, {\"teaches\": \"Moonwatcher\"}]}, {\"tools\": [{\"description\": \"implements for killing\"}]}, {\"Moonwatcher's tribe\": [{\"description\": \"tribe\"}, {\"led by\": \"Moonwatcher\"}]}]''')"
      ],
      "metadata": {
        "id": "mvIC4hAI52V9"
      },
      "execution_count": 30,
      "outputs": []
    },
    {
      "cell_type": "code",
      "source": [
        "kg.clean_graph(\"Moonwatcher\")"
      ],
      "metadata": {
        "id": "RDcPZN7B3k8g"
      },
      "execution_count": 42,
      "outputs": []
    },
    {
      "cell_type": "code",
      "source": [
        "kg.fact_scores"
      ],
      "metadata": {
        "colab": {
          "base_uri": "https://localhost:8080/"
        },
        "id": "oyXXwHH23s8Y",
        "outputId": "76df4bb1-bdcc-4bb5-97ee-a02d9e4751c7"
      },
      "execution_count": 43,
      "outputs": [
        {
          "output_type": "execute_result",
          "data": {
            "text/plain": [
              "{}"
            ]
          },
          "metadata": {},
          "execution_count": 43
        }
      ]
    },
    {
      "cell_type": "code",
      "source": [
        "kg.entities"
      ],
      "metadata": {
        "colab": {
          "base_uri": "https://localhost:8080/"
        },
        "id": "sfYNyWPJ9dmO",
        "outputId": "f4370330-28bc-4800-8ae7-cd3a5955115c"
      },
      "execution_count": 46,
      "outputs": [
        {
          "output_type": "execute_result",
          "data": {
            "text/plain": [
              "{'Moonwatcher': {'description': 'smart ape',\n",
              "  'knows how to': 'use tools',\n",
              "  'learned from': 'an alien',\n",
              "  'loves': 'killing pigs, killing pigs'},\n",
              " 'an alien': {'description': 'extraterrestrial being',\n",
              "  'taught': 'Moonwatcher'},\n",
              " 'tools': {'description': 'instruments used for tasks',\n",
              "  'used by': 'Moonwatcher'},\n",
              " 'killing pigs': {'description': 'activity',\n",
              "  'loved by': 'Moonwatcher, Moonwatcher',\n",
              "  'liked by': 'Moonwatcher'}}"
            ]
          },
          "metadata": {},
          "execution_count": 46
        }
      ]
    },
    {
      "cell_type": "code",
      "source": [],
      "metadata": {
        "id": "03km3fct9eVI"
      },
      "execution_count": null,
      "outputs": []
    }
  ],
  "metadata": {
    "colab": {
      "provenance": [],
      "authorship_tag": "ABX9TyPUrXUxDlDC8n1ePSCd/KVJ",
      "include_colab_link": true
    },
    "kernelspec": {
      "display_name": "Python 3",
      "name": "python3"
    },
    "language_info": {
      "name": "python"
    }
  },
  "nbformat": 4,
  "nbformat_minor": 0
}
